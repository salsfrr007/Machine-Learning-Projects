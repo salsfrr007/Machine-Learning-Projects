{
  "nbformat": 4,
  "nbformat_minor": 0,
  "metadata": {
    "colab": {
      "provenance": []
    },
    "kernelspec": {
      "name": "python3",
      "display_name": "Python 3"
    },
    "language_info": {
      "name": "python"
    }
  },
  "cells": [
    {
      "cell_type": "markdown",
      "source": [
        "# Artist Classification: Solo vs. Collaborative Styles Using Machine Learning\n"
      ],
      "metadata": {
        "id": "tI-TgEZf1m2Y"
      }
    },
    {
      "cell_type": "markdown",
      "source": [
        "Studi kasus ini bertujuan untuk mengeksplorasi penerapan teknik machine learning untuk mengklasifikasikan artis ke dalam dua kategori utama: 'Solo-oriented' (lebih dominan dengan rilisan solo) dan 'Collaborative' (lebih sering terlibat dalam proyek bersama atau sebagai featured artist). Dengan memanfaatkan data performa dari platform streaming, kami akan membangun dan mengevaluasi beberapa model klasifikasi untuk mengidentifikasi pola-pola yang membedakan kedua gaya artis ini.\n",
        "Masalah yang dihadapi adalah bagaimana secara akurat mengotomatiskan proses klasifikasi ini berdasarkan data numerik yang tersedia. Studi ini akan:\n",
        "Melakukan Eksplorasi Data Awal (EDA) untuk memahami struktur dan karakteristik data performa artis.\n",
        "Melakukan pembersihan data dan rekayasa fitur yang diperlukan.\n",
        "Membangun model baseline menggunakan algoritma klasifikasi yang umum.\n",
        "Mengembangkan dan menyetel (tune) parameter beberapa skema model machine learning yang berbeda (seperti Random Forest, XGBoost, dan SVM) untuk menemukan konfigurasi terbaik.\n",
        "Mengevaluasi kinerja model-model yang sudah disetel menggunakan metrik klasifikasi yang relevan dan visualisasi yang sesuai.\n",
        "Melalui pendekatan ini, diharapkan dapat ditemukan model machine learning yang paling efektif dalam memprediksi gaya artis (solo atau kolaboratif), memberikan dasar yang kuat untuk analisis yang lebih mendalam atau aplikasi praktis dalam industri musik\n",
        "\n",
        "\n",
        "- Salma Safira Ramandha (1301223383)\n",
        "- Alya Shabrina (1301223472)\n",
        "\n"
      ],
      "metadata": {
        "id": "8BWqV1hT1tpt"
      }
    },
    {
      "cell_type": "markdown",
      "source": [
        "# **1.Data Preprocessing dan Eksplorasi Data**"
      ],
      "metadata": {
        "id": "Q8b17QZkpdmp"
      }
    },
    {
      "cell_type": "markdown",
      "source": [
        "# **1.1 Import Library**"
      ],
      "metadata": {
        "id": "h2jj2Rf1plDS"
      }
    },
    {
      "cell_type": "code",
      "source": [
        "import pandas as pd\n",
        "import numpy as np\n",
        "import matplotlib.pyplot as plt\n",
        "import seaborn as sns\n",
        "from sklearn.model_selection import train_test_split\n",
        "from sklearn.preprocessing import StandardScaler, LabelEncoder\n",
        "from sklearn.metrics import accuracy_score, f1_score\n",
        "from sklearn.metrics import accuracy_score, f1_score, precision_score, recall_score, confusion_matrix\n",
        "from sklearn.preprocessing import LabelEncoder"
      ],
      "metadata": {
        "id": "p00B5rkRpzzK"
      },
      "execution_count": null,
      "outputs": []
    },
    {
      "cell_type": "markdown",
      "source": [
        "# **1.2 Load Dataset**"
      ],
      "metadata": {
        "id": "p3dXUAdeqC5H"
      }
    },
    {
      "cell_type": "code",
      "source": [
        "# Load dataset\n",
        "file_path = 'artists.csv'\n",
        "df = pd.read_csv(file_path)"
      ],
      "metadata": {
        "id": "U6v4XR7_K6At"
      },
      "execution_count": null,
      "outputs": []
    },
    {
      "cell_type": "code",
      "source": [
        "## Handle missing values: fill NaN with 0 for simplicity (could be improved later)\n",
        "df['Daily'] = df['Daily'].fillna(0)\n",
        "df['As lead'] = df['As lead'].fillna(0)\n",
        "df['Solo'] = df['Solo'].fillna(0)\n",
        "df['As feature'] = df['As feature'].fillna(0)"
      ],
      "metadata": {
        "id": "y65PB7bAsJZS"
      },
      "execution_count": null,
      "outputs": []
    },
    {
      "cell_type": "code",
      "source": [
        "# Convert numeric columns with commas to float\n",
        "def clean_numeric_column(series):\n",
        "    # Ensure the series is treated as string before replacing\n",
        "    return series.astype(str).str.replace(',', '', regex=False).astype(float)"
      ],
      "metadata": {
        "id": "8h7S-qhmsNim"
      },
      "execution_count": null,
      "outputs": []
    },
    {
      "cell_type": "code",
      "source": [
        "# Apply the cleaning function to relevant numeric columns\n",
        "df['Streams'] = clean_numeric_column(df['Streams'])\n",
        "df['Daily'] = clean_numeric_column(df['Daily'])\n",
        "df['As lead'] = clean_numeric_column(df['As lead'])\n",
        "df['Solo'] = clean_numeric_column(df['Solo'])\n",
        "df['As feature'] = clean_numeric_column(df['As feature'])"
      ],
      "metadata": {
        "id": "_l3PgECPsPyC"
      },
      "execution_count": null,
      "outputs": []
    },
    {
      "cell_type": "code",
      "source": [
        "df['artist_type'] = df.apply(lambda x: 'Solo-oriented' if x['Solo'] >= x['As feature'] else 'Collaborative', axis=1)"
      ],
      "metadata": {
        "id": "z9-b06KUvoko"
      },
      "execution_count": null,
      "outputs": []
    },
    {
      "cell_type": "markdown",
      "source": [
        "# **1.3 Data Splitting**"
      ],
      "metadata": {
        "id": "BOtGL2uisqHa"
      }
    },
    {
      "cell_type": "code",
      "source": [
        "# Separate features (X) and target (y)\n",
        "X = df.drop(columns=[\"Artist\", \"artist_type\"])\n",
        "y = df[\"artist_type\"]\n",
        "\n",
        "# Encode target variable\n",
        "label_encoder = LabelEncoder()\n",
        "y_encoded = label_encoder.fit_transform(y)\n",
        "y_original = df[\"artist_type\"] # Keep original for reporting\n",
        "\n",
        "# Split data into training and testing sets\n",
        "from sklearn.model_selection import train_test_split\n",
        "X_train, X_test, y_train_encoded, y_test_encoded = train_test_split(\n",
        "    X, y_encoded, test_size=0.2, random_state=42, stratify=y_encoded\n",
        ")\n",
        "\n",
        "# Split original target as well\n",
        "_, _, y_train_original, y_test_original = train_test_split(\n",
        "    X, y_original, test_size=0.2, random_state=42, stratify=y_original\n",
        ")\n",
        "\n",
        "# Scale features\n",
        "from sklearn.preprocessing import StandardScaler\n",
        "scaler = StandardScaler()\n",
        "X_train_scaled = scaler.fit_transform(X_train)\n",
        "X_test_scaled = scaler.transform(X_test)\n",
        "\n",
        "# Display shapes\n",
        "print(\"Shape of data after splitting and scaling:\")\n",
        "print(f\"X_train shape: {X_train.shape}\")\n",
        "print(f\"X_test shape: {X_test.shape}\")\n",
        "print(f\"y_train shape: {y_train_original.shape}\")\n",
        "print(f\"y_test shape: {y_test_original.shape}\")\n"
      ],
      "metadata": {
        "colab": {
          "base_uri": "https://localhost:8080/"
        },
        "id": "xwC9EpkDqMGU",
        "outputId": "fea347f8-5e23-4674-808a-5756ae023c35"
      },
      "execution_count": null,
      "outputs": [
        {
          "output_type": "stream",
          "name": "stdout",
          "text": [
            "Shape of data after splitting and scaling:\n",
            "X_train shape: (2400, 5)\n",
            "X_test shape: (600, 5)\n",
            "y_train shape: (2400,)\n",
            "y_test shape: (600,)\n"
          ]
        }
      ]
    },
    {
      "cell_type": "markdown",
      "source": [
        "# **1.4 Explatory Data Analysis (EDA)**"
      ],
      "metadata": {
        "id": "5xwbiW9asnDj"
      }
    },
    {
      "cell_type": "code",
      "source": [
        "# feature names as a list\n",
        "col = df.columns       # .columns gives columns names in data\n",
        "print(col)"
      ],
      "metadata": {
        "colab": {
          "base_uri": "https://localhost:8080/"
        },
        "id": "ijS9I4A3uBKz",
        "outputId": "604cf260-95ca-4ad8-d874-357770c13619"
      },
      "execution_count": null,
      "outputs": [
        {
          "output_type": "stream",
          "name": "stdout",
          "text": [
            "Index(['Artist', 'Streams', 'Daily', 'As lead', 'Solo', 'As feature',\n",
            "       'artist_type'],\n",
            "      dtype='object')\n"
          ]
        }
      ]
    },
    {
      "cell_type": "code",
      "source": [
        "# Show basic info and first few rows\n",
        "df.info()"
      ],
      "metadata": {
        "colab": {
          "base_uri": "https://localhost:8080/"
        },
        "id": "isJSC_JYkXPI",
        "outputId": "b043aefb-31f5-42e9-89ad-3bd3ecff15cc"
      },
      "execution_count": null,
      "outputs": [
        {
          "output_type": "stream",
          "name": "stdout",
          "text": [
            "<class 'pandas.core.frame.DataFrame'>\n",
            "RangeIndex: 3000 entries, 0 to 2999\n",
            "Data columns (total 7 columns):\n",
            " #   Column       Non-Null Count  Dtype  \n",
            "---  ------       --------------  -----  \n",
            " 0   Artist       3000 non-null   object \n",
            " 1   Streams      3000 non-null   float64\n",
            " 2   Daily        3000 non-null   float64\n",
            " 3   As lead      3000 non-null   float64\n",
            " 4   Solo         3000 non-null   float64\n",
            " 5   As feature   3000 non-null   float64\n",
            " 6   artist_type  3000 non-null   object \n",
            "dtypes: float64(5), object(2)\n",
            "memory usage: 164.2+ KB\n"
          ]
        }
      ]
    },
    {
      "cell_type": "code",
      "source": [
        "df.head()"
      ],
      "metadata": {
        "colab": {
          "base_uri": "https://localhost:8080/",
          "height": 206
        },
        "id": "G7tSCqxMkZjg",
        "outputId": "dfd34814-4cda-4c67-d20d-5464fe7984d0"
      },
      "execution_count": null,
      "outputs": [
        {
          "output_type": "execute_result",
          "data": {
            "text/plain": [
              "         Artist  Streams   Daily  As lead     Solo  As feature    artist_type\n",
              "0         Drake  85041.3  50.775  57252.6  32681.6     27788.7  Solo-oriented\n",
              "1     Bad Bunny  67533.0  44.820  40969.6  23073.0     26563.4  Collaborative\n",
              "2  Taylor Swift  57859.0  85.793  55566.7  50425.7      2292.4  Solo-oriented\n",
              "3    The Weeknd  53665.2  44.437  42673.3  31164.2     10991.9  Solo-oriented\n",
              "4    Ed Sheeran  47907.7  17.506  42767.9  33917.0      5139.8  Solo-oriented"
            ],
            "text/html": [
              "\n",
              "  <div id=\"df-f2ff475d-a8b4-4dcb-b449-78d0f4fc8f17\" class=\"colab-df-container\">\n",
              "    <div>\n",
              "<style scoped>\n",
              "    .dataframe tbody tr th:only-of-type {\n",
              "        vertical-align: middle;\n",
              "    }\n",
              "\n",
              "    .dataframe tbody tr th {\n",
              "        vertical-align: top;\n",
              "    }\n",
              "\n",
              "    .dataframe thead th {\n",
              "        text-align: right;\n",
              "    }\n",
              "</style>\n",
              "<table border=\"1\" class=\"dataframe\">\n",
              "  <thead>\n",
              "    <tr style=\"text-align: right;\">\n",
              "      <th></th>\n",
              "      <th>Artist</th>\n",
              "      <th>Streams</th>\n",
              "      <th>Daily</th>\n",
              "      <th>As lead</th>\n",
              "      <th>Solo</th>\n",
              "      <th>As feature</th>\n",
              "      <th>artist_type</th>\n",
              "    </tr>\n",
              "  </thead>\n",
              "  <tbody>\n",
              "    <tr>\n",
              "      <th>0</th>\n",
              "      <td>Drake</td>\n",
              "      <td>85041.3</td>\n",
              "      <td>50.775</td>\n",
              "      <td>57252.6</td>\n",
              "      <td>32681.6</td>\n",
              "      <td>27788.7</td>\n",
              "      <td>Solo-oriented</td>\n",
              "    </tr>\n",
              "    <tr>\n",
              "      <th>1</th>\n",
              "      <td>Bad Bunny</td>\n",
              "      <td>67533.0</td>\n",
              "      <td>44.820</td>\n",
              "      <td>40969.6</td>\n",
              "      <td>23073.0</td>\n",
              "      <td>26563.4</td>\n",
              "      <td>Collaborative</td>\n",
              "    </tr>\n",
              "    <tr>\n",
              "      <th>2</th>\n",
              "      <td>Taylor Swift</td>\n",
              "      <td>57859.0</td>\n",
              "      <td>85.793</td>\n",
              "      <td>55566.7</td>\n",
              "      <td>50425.7</td>\n",
              "      <td>2292.4</td>\n",
              "      <td>Solo-oriented</td>\n",
              "    </tr>\n",
              "    <tr>\n",
              "      <th>3</th>\n",
              "      <td>The Weeknd</td>\n",
              "      <td>53665.2</td>\n",
              "      <td>44.437</td>\n",
              "      <td>42673.3</td>\n",
              "      <td>31164.2</td>\n",
              "      <td>10991.9</td>\n",
              "      <td>Solo-oriented</td>\n",
              "    </tr>\n",
              "    <tr>\n",
              "      <th>4</th>\n",
              "      <td>Ed Sheeran</td>\n",
              "      <td>47907.7</td>\n",
              "      <td>17.506</td>\n",
              "      <td>42767.9</td>\n",
              "      <td>33917.0</td>\n",
              "      <td>5139.8</td>\n",
              "      <td>Solo-oriented</td>\n",
              "    </tr>\n",
              "  </tbody>\n",
              "</table>\n",
              "</div>\n",
              "    <div class=\"colab-df-buttons\">\n",
              "\n",
              "  <div class=\"colab-df-container\">\n",
              "    <button class=\"colab-df-convert\" onclick=\"convertToInteractive('df-f2ff475d-a8b4-4dcb-b449-78d0f4fc8f17')\"\n",
              "            title=\"Convert this dataframe to an interactive table.\"\n",
              "            style=\"display:none;\">\n",
              "\n",
              "  <svg xmlns=\"http://www.w3.org/2000/svg\" height=\"24px\" viewBox=\"0 -960 960 960\">\n",
              "    <path d=\"M120-120v-720h720v720H120Zm60-500h600v-160H180v160Zm220 220h160v-160H400v160Zm0 220h160v-160H400v160ZM180-400h160v-160H180v160Zm440 0h160v-160H620v160ZM180-180h160v-160H180v160Zm440 0h160v-160H620v160Z\"/>\n",
              "  </svg>\n",
              "    </button>\n",
              "\n",
              "  <style>\n",
              "    .colab-df-container {\n",
              "      display:flex;\n",
              "      gap: 12px;\n",
              "    }\n",
              "\n",
              "    .colab-df-convert {\n",
              "      background-color: #E8F0FE;\n",
              "      border: none;\n",
              "      border-radius: 50%;\n",
              "      cursor: pointer;\n",
              "      display: none;\n",
              "      fill: #1967D2;\n",
              "      height: 32px;\n",
              "      padding: 0 0 0 0;\n",
              "      width: 32px;\n",
              "    }\n",
              "\n",
              "    .colab-df-convert:hover {\n",
              "      background-color: #E2EBFA;\n",
              "      box-shadow: 0px 1px 2px rgba(60, 64, 67, 0.3), 0px 1px 3px 1px rgba(60, 64, 67, 0.15);\n",
              "      fill: #174EA6;\n",
              "    }\n",
              "\n",
              "    .colab-df-buttons div {\n",
              "      margin-bottom: 4px;\n",
              "    }\n",
              "\n",
              "    [theme=dark] .colab-df-convert {\n",
              "      background-color: #3B4455;\n",
              "      fill: #D2E3FC;\n",
              "    }\n",
              "\n",
              "    [theme=dark] .colab-df-convert:hover {\n",
              "      background-color: #434B5C;\n",
              "      box-shadow: 0px 1px 3px 1px rgba(0, 0, 0, 0.15);\n",
              "      filter: drop-shadow(0px 1px 2px rgba(0, 0, 0, 0.3));\n",
              "      fill: #FFFFFF;\n",
              "    }\n",
              "  </style>\n",
              "\n",
              "    <script>\n",
              "      const buttonEl =\n",
              "        document.querySelector('#df-f2ff475d-a8b4-4dcb-b449-78d0f4fc8f17 button.colab-df-convert');\n",
              "      buttonEl.style.display =\n",
              "        google.colab.kernel.accessAllowed ? 'block' : 'none';\n",
              "\n",
              "      async function convertToInteractive(key) {\n",
              "        const element = document.querySelector('#df-f2ff475d-a8b4-4dcb-b449-78d0f4fc8f17');\n",
              "        const dataTable =\n",
              "          await google.colab.kernel.invokeFunction('convertToInteractive',\n",
              "                                                    [key], {});\n",
              "        if (!dataTable) return;\n",
              "\n",
              "        const docLinkHtml = 'Like what you see? Visit the ' +\n",
              "          '<a target=\"_blank\" href=https://colab.research.google.com/notebooks/data_table.ipynb>data table notebook</a>'\n",
              "          + ' to learn more about interactive tables.';\n",
              "        element.innerHTML = '';\n",
              "        dataTable['output_type'] = 'display_data';\n",
              "        await google.colab.output.renderOutput(dataTable, element);\n",
              "        const docLink = document.createElement('div');\n",
              "        docLink.innerHTML = docLinkHtml;\n",
              "        element.appendChild(docLink);\n",
              "      }\n",
              "    </script>\n",
              "  </div>\n",
              "\n",
              "\n",
              "    <div id=\"df-aafedcd8-debe-490f-a564-3536e164fb8d\">\n",
              "      <button class=\"colab-df-quickchart\" onclick=\"quickchart('df-aafedcd8-debe-490f-a564-3536e164fb8d')\"\n",
              "                title=\"Suggest charts\"\n",
              "                style=\"display:none;\">\n",
              "\n",
              "<svg xmlns=\"http://www.w3.org/2000/svg\" height=\"24px\"viewBox=\"0 0 24 24\"\n",
              "     width=\"24px\">\n",
              "    <g>\n",
              "        <path d=\"M19 3H5c-1.1 0-2 .9-2 2v14c0 1.1.9 2 2 2h14c1.1 0 2-.9 2-2V5c0-1.1-.9-2-2-2zM9 17H7v-7h2v7zm4 0h-2V7h2v10zm4 0h-2v-4h2v4z\"/>\n",
              "    </g>\n",
              "</svg>\n",
              "      </button>\n",
              "\n",
              "<style>\n",
              "  .colab-df-quickchart {\n",
              "      --bg-color: #E8F0FE;\n",
              "      --fill-color: #1967D2;\n",
              "      --hover-bg-color: #E2EBFA;\n",
              "      --hover-fill-color: #174EA6;\n",
              "      --disabled-fill-color: #AAA;\n",
              "      --disabled-bg-color: #DDD;\n",
              "  }\n",
              "\n",
              "  [theme=dark] .colab-df-quickchart {\n",
              "      --bg-color: #3B4455;\n",
              "      --fill-color: #D2E3FC;\n",
              "      --hover-bg-color: #434B5C;\n",
              "      --hover-fill-color: #FFFFFF;\n",
              "      --disabled-bg-color: #3B4455;\n",
              "      --disabled-fill-color: #666;\n",
              "  }\n",
              "\n",
              "  .colab-df-quickchart {\n",
              "    background-color: var(--bg-color);\n",
              "    border: none;\n",
              "    border-radius: 50%;\n",
              "    cursor: pointer;\n",
              "    display: none;\n",
              "    fill: var(--fill-color);\n",
              "    height: 32px;\n",
              "    padding: 0;\n",
              "    width: 32px;\n",
              "  }\n",
              "\n",
              "  .colab-df-quickchart:hover {\n",
              "    background-color: var(--hover-bg-color);\n",
              "    box-shadow: 0 1px 2px rgba(60, 64, 67, 0.3), 0 1px 3px 1px rgba(60, 64, 67, 0.15);\n",
              "    fill: var(--button-hover-fill-color);\n",
              "  }\n",
              "\n",
              "  .colab-df-quickchart-complete:disabled,\n",
              "  .colab-df-quickchart-complete:disabled:hover {\n",
              "    background-color: var(--disabled-bg-color);\n",
              "    fill: var(--disabled-fill-color);\n",
              "    box-shadow: none;\n",
              "  }\n",
              "\n",
              "  .colab-df-spinner {\n",
              "    border: 2px solid var(--fill-color);\n",
              "    border-color: transparent;\n",
              "    border-bottom-color: var(--fill-color);\n",
              "    animation:\n",
              "      spin 1s steps(1) infinite;\n",
              "  }\n",
              "\n",
              "  @keyframes spin {\n",
              "    0% {\n",
              "      border-color: transparent;\n",
              "      border-bottom-color: var(--fill-color);\n",
              "      border-left-color: var(--fill-color);\n",
              "    }\n",
              "    20% {\n",
              "      border-color: transparent;\n",
              "      border-left-color: var(--fill-color);\n",
              "      border-top-color: var(--fill-color);\n",
              "    }\n",
              "    30% {\n",
              "      border-color: transparent;\n",
              "      border-left-color: var(--fill-color);\n",
              "      border-top-color: var(--fill-color);\n",
              "      border-right-color: var(--fill-color);\n",
              "    }\n",
              "    40% {\n",
              "      border-color: transparent;\n",
              "      border-right-color: var(--fill-color);\n",
              "      border-top-color: var(--fill-color);\n",
              "    }\n",
              "    60% {\n",
              "      border-color: transparent;\n",
              "      border-right-color: var(--fill-color);\n",
              "    }\n",
              "    80% {\n",
              "      border-color: transparent;\n",
              "      border-right-color: var(--fill-color);\n",
              "      border-bottom-color: var(--fill-color);\n",
              "    }\n",
              "    90% {\n",
              "      border-color: transparent;\n",
              "      border-bottom-color: var(--fill-color);\n",
              "    }\n",
              "  }\n",
              "</style>\n",
              "\n",
              "      <script>\n",
              "        async function quickchart(key) {\n",
              "          const quickchartButtonEl =\n",
              "            document.querySelector('#' + key + ' button');\n",
              "          quickchartButtonEl.disabled = true;  // To prevent multiple clicks.\n",
              "          quickchartButtonEl.classList.add('colab-df-spinner');\n",
              "          try {\n",
              "            const charts = await google.colab.kernel.invokeFunction(\n",
              "                'suggestCharts', [key], {});\n",
              "          } catch (error) {\n",
              "            console.error('Error during call to suggestCharts:', error);\n",
              "          }\n",
              "          quickchartButtonEl.classList.remove('colab-df-spinner');\n",
              "          quickchartButtonEl.classList.add('colab-df-quickchart-complete');\n",
              "        }\n",
              "        (() => {\n",
              "          let quickchartButtonEl =\n",
              "            document.querySelector('#df-aafedcd8-debe-490f-a564-3536e164fb8d button');\n",
              "          quickchartButtonEl.style.display =\n",
              "            google.colab.kernel.accessAllowed ? 'block' : 'none';\n",
              "        })();\n",
              "      </script>\n",
              "    </div>\n",
              "\n",
              "    </div>\n",
              "  </div>\n"
            ],
            "application/vnd.google.colaboratory.intrinsic+json": {
              "type": "dataframe",
              "variable_name": "df",
              "summary": "{\n  \"name\": \"df\",\n  \"rows\": 3000,\n  \"fields\": [\n    {\n      \"column\": \"Artist\",\n      \"properties\": {\n        \"dtype\": \"string\",\n        \"num_unique_values\": 2999,\n        \"samples\": [\n          \"Mr Eazi\",\n          \"Tori Kelly\",\n          \"blackbear\"\n        ],\n        \"semantic_type\": \"\",\n        \"description\": \"\"\n      }\n    },\n    {\n      \"column\": \"Streams\",\n      \"properties\": {\n        \"dtype\": \"number\",\n        \"std\": 4826.306507277247,\n        \"min\": 728.6,\n        \"max\": 85041.3,\n        \"num_unique_values\": 2802,\n        \"samples\": [\n          1907.1,\n          1719.8,\n          3244.1\n        ],\n        \"semantic_type\": \"\",\n        \"description\": \"\"\n      }\n    },\n    {\n      \"column\": \"Daily\",\n      \"properties\": {\n        \"dtype\": \"number\",\n        \"std\": 3.755435516155609,\n        \"min\": 0.0,\n        \"max\": 85.793,\n        \"num_unique_values\": 1825,\n        \"samples\": [\n          1.038,\n          0.927,\n          4.894\n        ],\n        \"semantic_type\": \"\",\n        \"description\": \"\"\n      }\n    },\n    {\n      \"column\": \"As lead\",\n      \"properties\": {\n        \"dtype\": \"number\",\n        \"std\": 3584.571654558073,\n        \"min\": 0.0,\n        \"max\": 57252.6,\n        \"num_unique_values\": 2820,\n        \"samples\": [\n          1907.5,\n          799.2,\n          646.4\n        ],\n        \"semantic_type\": \"\",\n        \"description\": \"\"\n      }\n    },\n    {\n      \"column\": \"Solo\",\n      \"properties\": {\n        \"dtype\": \"number\",\n        \"std\": 2714.8398373865375,\n        \"min\": 0.0,\n        \"max\": 50425.7,\n        \"num_unique_values\": 2734,\n        \"samples\": [\n          1941.3,\n          14.1,\n          146.6\n        ],\n        \"semantic_type\": \"\",\n        \"description\": \"\"\n      }\n    },\n    {\n      \"column\": \"As feature\",\n      \"properties\": {\n        \"dtype\": \"number\",\n        \"std\": 1871.9620043074863,\n        \"min\": 0.0,\n        \"max\": 27788.7,\n        \"num_unique_values\": 2232,\n        \"samples\": [\n          199.8,\n          9.3,\n          767.2\n        ],\n        \"semantic_type\": \"\",\n        \"description\": \"\"\n      }\n    },\n    {\n      \"column\": \"artist_type\",\n      \"properties\": {\n        \"dtype\": \"category\",\n        \"num_unique_values\": 2,\n        \"samples\": [\n          \"Collaborative\",\n          \"Solo-oriented\"\n        ],\n        \"semantic_type\": \"\",\n        \"description\": \"\"\n      }\n    }\n  ]\n}"
            }
          },
          "metadata": {},
          "execution_count": 20
        }
      ]
    },
    {
      "cell_type": "code",
      "source": [
        "df.tail()"
      ],
      "metadata": {
        "colab": {
          "base_uri": "https://localhost:8080/",
          "height": 206
        },
        "id": "p_RZZol5nnvI",
        "outputId": "c8e11587-3633-4d92-cc12-777ba1f32a41"
      },
      "execution_count": null,
      "outputs": [
        {
          "output_type": "execute_result",
          "data": {
            "text/plain": [
              "                    Artist  Streams  Daily  As lead   Solo  As feature  \\\n",
              "2995        Vicente Garcia    729.9  0.397    542.2  434.8       187.6   \n",
              "2996                 Yasin    729.6  0.573    645.9  542.0        83.6   \n",
              "2997                  Vedo    729.4  0.284    718.2  607.6        11.1   \n",
              "2998  Kings of Convenience    728.6  0.252    728.6  618.9         0.0   \n",
              "2999            Ayra Starr    728.6  1.881    418.4  380.8       310.1   \n",
              "\n",
              "        artist_type  \n",
              "2995  Solo-oriented  \n",
              "2996  Solo-oriented  \n",
              "2997  Solo-oriented  \n",
              "2998  Solo-oriented  \n",
              "2999  Solo-oriented  "
            ],
            "text/html": [
              "\n",
              "  <div id=\"df-6fda244a-889b-4856-b142-561dee1bc5cc\" class=\"colab-df-container\">\n",
              "    <div>\n",
              "<style scoped>\n",
              "    .dataframe tbody tr th:only-of-type {\n",
              "        vertical-align: middle;\n",
              "    }\n",
              "\n",
              "    .dataframe tbody tr th {\n",
              "        vertical-align: top;\n",
              "    }\n",
              "\n",
              "    .dataframe thead th {\n",
              "        text-align: right;\n",
              "    }\n",
              "</style>\n",
              "<table border=\"1\" class=\"dataframe\">\n",
              "  <thead>\n",
              "    <tr style=\"text-align: right;\">\n",
              "      <th></th>\n",
              "      <th>Artist</th>\n",
              "      <th>Streams</th>\n",
              "      <th>Daily</th>\n",
              "      <th>As lead</th>\n",
              "      <th>Solo</th>\n",
              "      <th>As feature</th>\n",
              "      <th>artist_type</th>\n",
              "    </tr>\n",
              "  </thead>\n",
              "  <tbody>\n",
              "    <tr>\n",
              "      <th>2995</th>\n",
              "      <td>Vicente Garcia</td>\n",
              "      <td>729.9</td>\n",
              "      <td>0.397</td>\n",
              "      <td>542.2</td>\n",
              "      <td>434.8</td>\n",
              "      <td>187.6</td>\n",
              "      <td>Solo-oriented</td>\n",
              "    </tr>\n",
              "    <tr>\n",
              "      <th>2996</th>\n",
              "      <td>Yasin</td>\n",
              "      <td>729.6</td>\n",
              "      <td>0.573</td>\n",
              "      <td>645.9</td>\n",
              "      <td>542.0</td>\n",
              "      <td>83.6</td>\n",
              "      <td>Solo-oriented</td>\n",
              "    </tr>\n",
              "    <tr>\n",
              "      <th>2997</th>\n",
              "      <td>Vedo</td>\n",
              "      <td>729.4</td>\n",
              "      <td>0.284</td>\n",
              "      <td>718.2</td>\n",
              "      <td>607.6</td>\n",
              "      <td>11.1</td>\n",
              "      <td>Solo-oriented</td>\n",
              "    </tr>\n",
              "    <tr>\n",
              "      <th>2998</th>\n",
              "      <td>Kings of Convenience</td>\n",
              "      <td>728.6</td>\n",
              "      <td>0.252</td>\n",
              "      <td>728.6</td>\n",
              "      <td>618.9</td>\n",
              "      <td>0.0</td>\n",
              "      <td>Solo-oriented</td>\n",
              "    </tr>\n",
              "    <tr>\n",
              "      <th>2999</th>\n",
              "      <td>Ayra Starr</td>\n",
              "      <td>728.6</td>\n",
              "      <td>1.881</td>\n",
              "      <td>418.4</td>\n",
              "      <td>380.8</td>\n",
              "      <td>310.1</td>\n",
              "      <td>Solo-oriented</td>\n",
              "    </tr>\n",
              "  </tbody>\n",
              "</table>\n",
              "</div>\n",
              "    <div class=\"colab-df-buttons\">\n",
              "\n",
              "  <div class=\"colab-df-container\">\n",
              "    <button class=\"colab-df-convert\" onclick=\"convertToInteractive('df-6fda244a-889b-4856-b142-561dee1bc5cc')\"\n",
              "            title=\"Convert this dataframe to an interactive table.\"\n",
              "            style=\"display:none;\">\n",
              "\n",
              "  <svg xmlns=\"http://www.w3.org/2000/svg\" height=\"24px\" viewBox=\"0 -960 960 960\">\n",
              "    <path d=\"M120-120v-720h720v720H120Zm60-500h600v-160H180v160Zm220 220h160v-160H400v160Zm0 220h160v-160H400v160ZM180-400h160v-160H180v160Zm440 0h160v-160H620v160ZM180-180h160v-160H180v160Zm440 0h160v-160H620v160Z\"/>\n",
              "  </svg>\n",
              "    </button>\n",
              "\n",
              "  <style>\n",
              "    .colab-df-container {\n",
              "      display:flex;\n",
              "      gap: 12px;\n",
              "    }\n",
              "\n",
              "    .colab-df-convert {\n",
              "      background-color: #E8F0FE;\n",
              "      border: none;\n",
              "      border-radius: 50%;\n",
              "      cursor: pointer;\n",
              "      display: none;\n",
              "      fill: #1967D2;\n",
              "      height: 32px;\n",
              "      padding: 0 0 0 0;\n",
              "      width: 32px;\n",
              "    }\n",
              "\n",
              "    .colab-df-convert:hover {\n",
              "      background-color: #E2EBFA;\n",
              "      box-shadow: 0px 1px 2px rgba(60, 64, 67, 0.3), 0px 1px 3px 1px rgba(60, 64, 67, 0.15);\n",
              "      fill: #174EA6;\n",
              "    }\n",
              "\n",
              "    .colab-df-buttons div {\n",
              "      margin-bottom: 4px;\n",
              "    }\n",
              "\n",
              "    [theme=dark] .colab-df-convert {\n",
              "      background-color: #3B4455;\n",
              "      fill: #D2E3FC;\n",
              "    }\n",
              "\n",
              "    [theme=dark] .colab-df-convert:hover {\n",
              "      background-color: #434B5C;\n",
              "      box-shadow: 0px 1px 3px 1px rgba(0, 0, 0, 0.15);\n",
              "      filter: drop-shadow(0px 1px 2px rgba(0, 0, 0, 0.3));\n",
              "      fill: #FFFFFF;\n",
              "    }\n",
              "  </style>\n",
              "\n",
              "    <script>\n",
              "      const buttonEl =\n",
              "        document.querySelector('#df-6fda244a-889b-4856-b142-561dee1bc5cc button.colab-df-convert');\n",
              "      buttonEl.style.display =\n",
              "        google.colab.kernel.accessAllowed ? 'block' : 'none';\n",
              "\n",
              "      async function convertToInteractive(key) {\n",
              "        const element = document.querySelector('#df-6fda244a-889b-4856-b142-561dee1bc5cc');\n",
              "        const dataTable =\n",
              "          await google.colab.kernel.invokeFunction('convertToInteractive',\n",
              "                                                    [key], {});\n",
              "        if (!dataTable) return;\n",
              "\n",
              "        const docLinkHtml = 'Like what you see? Visit the ' +\n",
              "          '<a target=\"_blank\" href=https://colab.research.google.com/notebooks/data_table.ipynb>data table notebook</a>'\n",
              "          + ' to learn more about interactive tables.';\n",
              "        element.innerHTML = '';\n",
              "        dataTable['output_type'] = 'display_data';\n",
              "        await google.colab.output.renderOutput(dataTable, element);\n",
              "        const docLink = document.createElement('div');\n",
              "        docLink.innerHTML = docLinkHtml;\n",
              "        element.appendChild(docLink);\n",
              "      }\n",
              "    </script>\n",
              "  </div>\n",
              "\n",
              "\n",
              "    <div id=\"df-2923fcc7-21fa-42c8-89a9-00e57e20defb\">\n",
              "      <button class=\"colab-df-quickchart\" onclick=\"quickchart('df-2923fcc7-21fa-42c8-89a9-00e57e20defb')\"\n",
              "                title=\"Suggest charts\"\n",
              "                style=\"display:none;\">\n",
              "\n",
              "<svg xmlns=\"http://www.w3.org/2000/svg\" height=\"24px\"viewBox=\"0 0 24 24\"\n",
              "     width=\"24px\">\n",
              "    <g>\n",
              "        <path d=\"M19 3H5c-1.1 0-2 .9-2 2v14c0 1.1.9 2 2 2h14c1.1 0 2-.9 2-2V5c0-1.1-.9-2-2-2zM9 17H7v-7h2v7zm4 0h-2V7h2v10zm4 0h-2v-4h2v4z\"/>\n",
              "    </g>\n",
              "</svg>\n",
              "      </button>\n",
              "\n",
              "<style>\n",
              "  .colab-df-quickchart {\n",
              "      --bg-color: #E8F0FE;\n",
              "      --fill-color: #1967D2;\n",
              "      --hover-bg-color: #E2EBFA;\n",
              "      --hover-fill-color: #174EA6;\n",
              "      --disabled-fill-color: #AAA;\n",
              "      --disabled-bg-color: #DDD;\n",
              "  }\n",
              "\n",
              "  [theme=dark] .colab-df-quickchart {\n",
              "      --bg-color: #3B4455;\n",
              "      --fill-color: #D2E3FC;\n",
              "      --hover-bg-color: #434B5C;\n",
              "      --hover-fill-color: #FFFFFF;\n",
              "      --disabled-bg-color: #3B4455;\n",
              "      --disabled-fill-color: #666;\n",
              "  }\n",
              "\n",
              "  .colab-df-quickchart {\n",
              "    background-color: var(--bg-color);\n",
              "    border: none;\n",
              "    border-radius: 50%;\n",
              "    cursor: pointer;\n",
              "    display: none;\n",
              "    fill: var(--fill-color);\n",
              "    height: 32px;\n",
              "    padding: 0;\n",
              "    width: 32px;\n",
              "  }\n",
              "\n",
              "  .colab-df-quickchart:hover {\n",
              "    background-color: var(--hover-bg-color);\n",
              "    box-shadow: 0 1px 2px rgba(60, 64, 67, 0.3), 0 1px 3px 1px rgba(60, 64, 67, 0.15);\n",
              "    fill: var(--button-hover-fill-color);\n",
              "  }\n",
              "\n",
              "  .colab-df-quickchart-complete:disabled,\n",
              "  .colab-df-quickchart-complete:disabled:hover {\n",
              "    background-color: var(--disabled-bg-color);\n",
              "    fill: var(--disabled-fill-color);\n",
              "    box-shadow: none;\n",
              "  }\n",
              "\n",
              "  .colab-df-spinner {\n",
              "    border: 2px solid var(--fill-color);\n",
              "    border-color: transparent;\n",
              "    border-bottom-color: var(--fill-color);\n",
              "    animation:\n",
              "      spin 1s steps(1) infinite;\n",
              "  }\n",
              "\n",
              "  @keyframes spin {\n",
              "    0% {\n",
              "      border-color: transparent;\n",
              "      border-bottom-color: var(--fill-color);\n",
              "      border-left-color: var(--fill-color);\n",
              "    }\n",
              "    20% {\n",
              "      border-color: transparent;\n",
              "      border-left-color: var(--fill-color);\n",
              "      border-top-color: var(--fill-color);\n",
              "    }\n",
              "    30% {\n",
              "      border-color: transparent;\n",
              "      border-left-color: var(--fill-color);\n",
              "      border-top-color: var(--fill-color);\n",
              "      border-right-color: var(--fill-color);\n",
              "    }\n",
              "    40% {\n",
              "      border-color: transparent;\n",
              "      border-right-color: var(--fill-color);\n",
              "      border-top-color: var(--fill-color);\n",
              "    }\n",
              "    60% {\n",
              "      border-color: transparent;\n",
              "      border-right-color: var(--fill-color);\n",
              "    }\n",
              "    80% {\n",
              "      border-color: transparent;\n",
              "      border-right-color: var(--fill-color);\n",
              "      border-bottom-color: var(--fill-color);\n",
              "    }\n",
              "    90% {\n",
              "      border-color: transparent;\n",
              "      border-bottom-color: var(--fill-color);\n",
              "    }\n",
              "  }\n",
              "</style>\n",
              "\n",
              "      <script>\n",
              "        async function quickchart(key) {\n",
              "          const quickchartButtonEl =\n",
              "            document.querySelector('#' + key + ' button');\n",
              "          quickchartButtonEl.disabled = true;  // To prevent multiple clicks.\n",
              "          quickchartButtonEl.classList.add('colab-df-spinner');\n",
              "          try {\n",
              "            const charts = await google.colab.kernel.invokeFunction(\n",
              "                'suggestCharts', [key], {});\n",
              "          } catch (error) {\n",
              "            console.error('Error during call to suggestCharts:', error);\n",
              "          }\n",
              "          quickchartButtonEl.classList.remove('colab-df-spinner');\n",
              "          quickchartButtonEl.classList.add('colab-df-quickchart-complete');\n",
              "        }\n",
              "        (() => {\n",
              "          let quickchartButtonEl =\n",
              "            document.querySelector('#df-2923fcc7-21fa-42c8-89a9-00e57e20defb button');\n",
              "          quickchartButtonEl.style.display =\n",
              "            google.colab.kernel.accessAllowed ? 'block' : 'none';\n",
              "        })();\n",
              "      </script>\n",
              "    </div>\n",
              "\n",
              "    </div>\n",
              "  </div>\n"
            ],
            "application/vnd.google.colaboratory.intrinsic+json": {
              "type": "dataframe",
              "summary": "{\n  \"name\": \"df\",\n  \"rows\": 5,\n  \"fields\": [\n    {\n      \"column\": \"Artist\",\n      \"properties\": {\n        \"dtype\": \"string\",\n        \"num_unique_values\": 5,\n        \"samples\": [\n          \"Yasin\",\n          \"Ayra Starr\",\n          \"Vedo\"\n        ],\n        \"semantic_type\": \"\",\n        \"description\": \"\"\n      }\n    },\n    {\n      \"column\": \"Streams\",\n      \"properties\": {\n        \"dtype\": \"number\",\n        \"std\": 0.5932958789676366,\n        \"min\": 728.6,\n        \"max\": 729.9,\n        \"num_unique_values\": 4,\n        \"samples\": [\n          729.6,\n          728.6,\n          729.9\n        ],\n        \"semantic_type\": \"\",\n        \"description\": \"\"\n      }\n    },\n    {\n      \"column\": \"Daily\",\n      \"properties\": {\n        \"dtype\": \"number\",\n        \"std\": 0.6844532854768103,\n        \"min\": 0.252,\n        \"max\": 1.881,\n        \"num_unique_values\": 5,\n        \"samples\": [\n          0.573,\n          1.881,\n          0.284\n        ],\n        \"semantic_type\": \"\",\n        \"description\": \"\"\n      }\n    },\n    {\n      \"column\": \"As lead\",\n      \"properties\": {\n        \"dtype\": \"number\",\n        \"std\": 130.73564165903653,\n        \"min\": 418.4,\n        \"max\": 728.6,\n        \"num_unique_values\": 5,\n        \"samples\": [\n          645.9,\n          418.4,\n          718.2\n        ],\n        \"semantic_type\": \"\",\n        \"description\": \"\"\n      }\n    },\n    {\n      \"column\": \"Solo\",\n      \"properties\": {\n        \"dtype\": \"number\",\n        \"std\": 105.50365870433119,\n        \"min\": 380.8,\n        \"max\": 618.9,\n        \"num_unique_values\": 5,\n        \"samples\": [\n          542.0,\n          380.8,\n          607.6\n        ],\n        \"semantic_type\": \"\",\n        \"description\": \"\"\n      }\n    },\n    {\n      \"column\": \"As feature\",\n      \"properties\": {\n        \"dtype\": \"number\",\n        \"std\": 130.65258129864867,\n        \"min\": 0.0,\n        \"max\": 310.1,\n        \"num_unique_values\": 5,\n        \"samples\": [\n          83.6,\n          310.1,\n          11.1\n        ],\n        \"semantic_type\": \"\",\n        \"description\": \"\"\n      }\n    },\n    {\n      \"column\": \"artist_type\",\n      \"properties\": {\n        \"dtype\": \"category\",\n        \"num_unique_values\": 1,\n        \"samples\": [\n          \"Solo-oriented\"\n        ],\n        \"semantic_type\": \"\",\n        \"description\": \"\"\n      }\n    }\n  ]\n}"
            }
          },
          "metadata": {},
          "execution_count": 21
        }
      ]
    },
    {
      "cell_type": "code",
      "source": [
        "#shape of the dataset\n",
        "df.shape"
      ],
      "metadata": {
        "colab": {
          "base_uri": "https://localhost:8080/"
        },
        "id": "S32Bp_2alyQZ",
        "outputId": "a2fb9b33-7833-4c1f-f644-c7f01365cb44"
      },
      "execution_count": null,
      "outputs": [
        {
          "output_type": "execute_result",
          "data": {
            "text/plain": [
              "(3000, 7)"
            ]
          },
          "metadata": {},
          "execution_count": 23
        }
      ]
    },
    {
      "cell_type": "code",
      "source": [
        "# checking for null values\n",
        "df.isnull().sum()"
      ],
      "metadata": {
        "colab": {
          "base_uri": "https://localhost:8080/",
          "height": 303
        },
        "id": "UNnGz7m5kyj3",
        "outputId": "7e6e98f6-0651-46cf-94b5-1593d85cdb76"
      },
      "execution_count": null,
      "outputs": [
        {
          "output_type": "execute_result",
          "data": {
            "text/plain": [
              "Artist         0\n",
              "Streams        0\n",
              "Daily          0\n",
              "As lead        0\n",
              "Solo           0\n",
              "As feature     0\n",
              "artist_type    0\n",
              "dtype: int64"
            ],
            "text/html": [
              "<div>\n",
              "<style scoped>\n",
              "    .dataframe tbody tr th:only-of-type {\n",
              "        vertical-align: middle;\n",
              "    }\n",
              "\n",
              "    .dataframe tbody tr th {\n",
              "        vertical-align: top;\n",
              "    }\n",
              "\n",
              "    .dataframe thead th {\n",
              "        text-align: right;\n",
              "    }\n",
              "</style>\n",
              "<table border=\"1\" class=\"dataframe\">\n",
              "  <thead>\n",
              "    <tr style=\"text-align: right;\">\n",
              "      <th></th>\n",
              "      <th>0</th>\n",
              "    </tr>\n",
              "  </thead>\n",
              "  <tbody>\n",
              "    <tr>\n",
              "      <th>Artist</th>\n",
              "      <td>0</td>\n",
              "    </tr>\n",
              "    <tr>\n",
              "      <th>Streams</th>\n",
              "      <td>0</td>\n",
              "    </tr>\n",
              "    <tr>\n",
              "      <th>Daily</th>\n",
              "      <td>0</td>\n",
              "    </tr>\n",
              "    <tr>\n",
              "      <th>As lead</th>\n",
              "      <td>0</td>\n",
              "    </tr>\n",
              "    <tr>\n",
              "      <th>Solo</th>\n",
              "      <td>0</td>\n",
              "    </tr>\n",
              "    <tr>\n",
              "      <th>As feature</th>\n",
              "      <td>0</td>\n",
              "    </tr>\n",
              "    <tr>\n",
              "      <th>artist_type</th>\n",
              "      <td>0</td>\n",
              "    </tr>\n",
              "  </tbody>\n",
              "</table>\n",
              "</div><br><label><b>dtype:</b> int64</label>"
            ]
          },
          "metadata": {},
          "execution_count": 22
        }
      ]
    },
    {
      "cell_type": "code",
      "source": [
        "#checking for duplicate values\n",
        "df.duplicated().value_counts()"
      ],
      "metadata": {
        "colab": {
          "base_uri": "https://localhost:8080/",
          "height": 115
        },
        "id": "H7sR4FwblnHO",
        "outputId": "e577afb6-9578-44b7-ffaf-c35bed169c2c"
      },
      "execution_count": null,
      "outputs": [
        {
          "output_type": "execute_result",
          "data": {
            "text/plain": [
              "False    3000\n",
              "Name: count, dtype: int64"
            ],
            "text/html": [
              "<div>\n",
              "<style scoped>\n",
              "    .dataframe tbody tr th:only-of-type {\n",
              "        vertical-align: middle;\n",
              "    }\n",
              "\n",
              "    .dataframe tbody tr th {\n",
              "        vertical-align: top;\n",
              "    }\n",
              "\n",
              "    .dataframe thead th {\n",
              "        text-align: right;\n",
              "    }\n",
              "</style>\n",
              "<table border=\"1\" class=\"dataframe\">\n",
              "  <thead>\n",
              "    <tr style=\"text-align: right;\">\n",
              "      <th></th>\n",
              "      <th>count</th>\n",
              "    </tr>\n",
              "  </thead>\n",
              "  <tbody>\n",
              "    <tr>\n",
              "      <th>False</th>\n",
              "      <td>3000</td>\n",
              "    </tr>\n",
              "  </tbody>\n",
              "</table>\n",
              "</div><br><label><b>dtype:</b> int64</label>"
            ]
          },
          "metadata": {},
          "execution_count": 61
        }
      ]
    },
    {
      "cell_type": "code",
      "source": [
        "# Distribusi Variabel Kategorikal (misalnya, 'artist_type')\n",
        "print(\"\\nDistribusi Artist Type:\")\n",
        "display(df['artist_type'].value_counts())"
      ],
      "metadata": {
        "colab": {
          "base_uri": "https://localhost:8080/",
          "height": 213
        },
        "id": "mFNX_TjHvwA-",
        "outputId": "89655063-448c-40c0-e225-7d5461471962"
      },
      "execution_count": null,
      "outputs": [
        {
          "output_type": "stream",
          "name": "stdout",
          "text": [
            "\n",
            "Distribusi Artist Type:\n"
          ]
        },
        {
          "output_type": "display_data",
          "data": {
            "text/plain": [
              "artist_type\n",
              "Solo-oriented    2039\n",
              "Collaborative     961\n",
              "Name: count, dtype: int64"
            ],
            "text/html": [
              "<div>\n",
              "<style scoped>\n",
              "    .dataframe tbody tr th:only-of-type {\n",
              "        vertical-align: middle;\n",
              "    }\n",
              "\n",
              "    .dataframe tbody tr th {\n",
              "        vertical-align: top;\n",
              "    }\n",
              "\n",
              "    .dataframe thead th {\n",
              "        text-align: right;\n",
              "    }\n",
              "</style>\n",
              "<table border=\"1\" class=\"dataframe\">\n",
              "  <thead>\n",
              "    <tr style=\"text-align: right;\">\n",
              "      <th></th>\n",
              "      <th>count</th>\n",
              "    </tr>\n",
              "    <tr>\n",
              "      <th>artist_type</th>\n",
              "      <th></th>\n",
              "    </tr>\n",
              "  </thead>\n",
              "  <tbody>\n",
              "    <tr>\n",
              "      <th>Solo-oriented</th>\n",
              "      <td>2039</td>\n",
              "    </tr>\n",
              "    <tr>\n",
              "      <th>Collaborative</th>\n",
              "      <td>961</td>\n",
              "    </tr>\n",
              "  </tbody>\n",
              "</table>\n",
              "</div><br><label><b>dtype:</b> int64</label>"
            ]
          },
          "metadata": {}
        }
      ]
    },
    {
      "cell_type": "code",
      "source": [
        "import matplotlib.pyplot as plt\n",
        "import seaborn as sns\n",
        "\n",
        "# Distribusi fitur numerik\n",
        "print(\"Distribusi Fitur Numerik:\")\n",
        "df[['Streams', 'Daily', 'As lead', 'Solo', 'As feature']].hist(figsize=(12, 8))\n",
        "plt.tight_layout()\n",
        "plt.show()\n",
        "\n",
        "# Distribusi fitur kategorikal (artist_type)\n",
        "print(\"\\nDistribusi Label Hasil:\")\n",
        "plt.figure(figsize=(6, 4))\n",
        "sns.countplot(x='artist_type', data=df)\n",
        "plt.title('Distribution of Artist Type')\n",
        "plt.xlabel('Artist Type')\n",
        "plt.ylabel('Count')\n",
        "plt.show()\n",
        "\n",
        "# Korelasi antar fitur numerik\n",
        "print(\"\\nMatriks Korelasi Fitur Numerik:\")\n",
        "numeric_cols = ['Streams', 'Daily', 'As lead', 'Solo', 'As feature']\n",
        "correlation_matrix = df[numeric_cols].corr()\n",
        "plt.figure(figsize=(8, 6))\n",
        "sns.heatmap(correlation_matrix, annot=True, cmap='coolwarm', fmt=\".2f\")\n",
        "plt.title('Correlation Matrix of Numeric Features')\n",
        "plt.show()\n"
      ],
      "metadata": {
        "colab": {
          "base_uri": "https://localhost:8080/",
          "height": 1000
        },
        "id": "RtPpVcM1tyMv",
        "outputId": "710a04ff-c325-4959-88ec-51c6977c69fa"
      },
      "execution_count": null,
      "outputs": [
        {
          "output_type": "stream",
          "name": "stdout",
          "text": [
            "Distribusi Fitur Numerik:\n"
          ]
        },
        {
          "output_type": "display_data",
          "data": {
            "text/plain": [
              "<Figure size 1200x800 with 6 Axes>"
            ],
            "image/png": "[encoded data removed]"
          },
          "metadata": {}
        },
        {
          "output_type": "stream",
          "name": "stdout",
          "text": [
            "\n",
            "Distribusi Label Hasil (ARTIST_TYPE):\n"
          ]
        },
        {
          "output_type": "display_data",
          "data": {
            "text/plain": [
              "<Figure size 600x400 with 1 Axes>"
            ],
            "image/png": "[encoded data removed]"
          },
          "metadata": {}
        },
        {
          "output_type": "stream",
          "name": "stdout",
          "text": [
            "\n",
            "Matriks Korelasi Fitur Numerik:\n"
          ]
        },
        {
          "output_type": "display_data",
          "data": {
            "text/plain": [
              "<Figure size 800x600 with 2 Axes>"
            ],
            "image/png": "[encoded data removed]"
          },
          "metadata": {}
        }
      ]
    },
    {
      "cell_type": "markdown",
      "source": [
        "## **2. Pembangunan Model Baseline**"
      ],
      "metadata": {
        "id": "j0qiMfpXoIae"
      }
    },
    {
      "cell_type": "markdown",
      "source": [
        "**2.1 Pembangunan Model**"
      ],
      "metadata": {
        "id": "th1qBTGEu89M"
      }
    },
    {
      "cell_type": "code",
      "source": [
        "import pandas as pd\n",
        "from sklearn.model_selection import train_test_split\n",
        "from sklearn.ensemble import RandomForestClassifier\n",
        "from xgboost import XGBClassifier\n",
        "from sklearn.linear_model import LinearRegression\n",
        "from sklearn.metrics import accuracy_score, mean_squared_error\n",
        "from sklearn.preprocessing import LabelEncoder\n",
        "from sklearn.svm import SVC\n",
        "from sklearn.preprocessing import StandardScaler\n",
        "from sklearn.metrics import accuracy_score\n",
        "from sklearn.metrics import classification_report, confusion_matrix, accuracy_score\n",
        "from sklearn.metrics import roc_curve, auc"
      ],
      "metadata": {
        "id": "lGT_2sQkN3nK"
      },
      "execution_count": null,
      "outputs": []
    },
    {
      "cell_type": "code",
      "source": [
        "# Random Forest\n",
        "rf_model = RandomForestClassifier(random_state=42)\n",
        "\n",
        "# Latih model menggunakan data training (belum diskalakan OK)\n",
        "rf_model.fit(X_train, y_train_encoded)\n",
        "\n",
        "# Prediksi pada data testing\n",
        "y_pred_rf = rf_model.predict(X_test)"
      ],
      "metadata": {
        "id": "mm_kzrpqucL9"
      },
      "execution_count": null,
      "outputs": []
    },
    {
      "cell_type": "code",
      "source": [
        "# XGBoost\n",
        "# use_label_encoder=False dan eval_metric='logloss' adalah praktik umum\n",
        "xgb_model = XGBClassifier(eval_metric='logloss', random_state=42)\n",
        "\n",
        "# Latih model menggunakan data training (belum diskalakan OK)\n",
        "xgb_model.fit(X_train, y_train_encoded)\n",
        "\n",
        "# Prediksi pada data testing\n",
        "y_pred_xgb = xgb_model.predict(X_test)"
      ],
      "metadata": {
        "id": "TR2w69oDN6In"
      },
      "execution_count": null,
      "outputs": []
    },
    {
      "cell_type": "code",
      "source": [
        "# SVM\n",
        "svm_model = SVC(kernel='rbf', random_state=42, probability=True) # probability=True ditambahkan\n",
        "\n",
        "# Latih model menggunakan data training YANG SUDAH DISKALAKAN\n",
        "svm_model.fit(X_train_scaled, y_train_encoded)\n",
        "\n",
        "# Prediksi pada data testing YANG SUDAH DISKALAKAN\n",
        "y_pred_svm = svm_model.predict(X_test_scaled)"
      ],
      "metadata": {
        "id": "r4YoS9Lkuzzz"
      },
      "execution_count": null,
      "outputs": []
    },
    {
      "cell_type": "markdown",
      "source": [
        "# **2.2 Evaluasi**"
      ],
      "metadata": {
        "id": "yLSdRojRvO63"
      }
    },
    {
      "cell_type": "markdown",
      "source": [
        "Random Forest"
      ],
      "metadata": {
        "id": "ACV4e21HOAYp"
      }
    },
    {
      "cell_type": "code",
      "source": [
        "print(\"\\n--- Melatih dan Mengevaluasi Random Forest ---\")\n",
        "\n",
        "from sklearn.ensemble import RandomForestClassifier\n",
        "from sklearn.metrics import accuracy_score, f1_score, precision_score, recall_score, confusion_matrix\n",
        "import matplotlib.pyplot as plt\n",
        "import seaborn as sns\n",
        "\n",
        "# Inisialisasi model\n",
        "rf_model = RandomForestClassifier(random_state=42)\n",
        "\n",
        "# Latih model\n",
        "rf_model.fit(X_train, y_train_encoded)\n",
        "\n",
        "# Prediksi\n",
        "y_pred_rf = rf_model.predict(X_test)\n",
        "\n",
        "# Hitung Metrik Dasar\n",
        "accuracy_rf = accuracy_score(y_test_encoded, y_pred_rf)\n",
        "f1_rf = f1_score(y_test_encoded, y_pred_rf, average='weighted')\n",
        "precision_rf = precision_score(y_test_encoded, y_pred_rf, average='weighted')\n",
        "recall_rf = recall_score(y_test_encoded, y_pred_rf, average='weighted')\n",
        "\n",
        "# Tampilkan Metrik Dasar\n",
        "print(\"Random Forest Metrics:\")\n",
        "print(f\"Akurasi   : {accuracy_rf:.4f}\")\n",
        "print(f\"F1 Score  : {f1_rf:.4f}\")\n",
        "print(f\"Precision : {precision_rf:.4f}\")\n",
        "print(f\"Recall    : {recall_rf:.4f}\")\n",
        "\n",
        "cm_rf = confusion_matrix(y_test_original, label_encoder.inverse_transform(y_pred_rf), labels=label_encoder.classes_)\n",
        "\n",
        "plt.figure(figsize=(6, 4))\n",
        "sns.heatmap(cm_rf, annot=True, fmt='d', cmap='Blues',\n",
        "            xticklabels=label_encoder.classes_, yticklabels=label_encoder.classes_)\n",
        "plt.title('Confusion Matrix - Random Forest')\n",
        "plt.xlabel('Predicted Label')\n",
        "plt.ylabel('True Label')\n",
        "plt.show()"
      ],
      "metadata": {
        "colab": {
          "base_uri": "https://localhost:8080/",
          "height": 531
        },
        "id": "bsbhTt8QvW1m",
        "outputId": "281eacdd-91a8-4a28-c372-c8a898b547f2"
      },
      "execution_count": null,
      "outputs": [
        {
          "output_type": "stream",
          "name": "stdout",
          "text": [
            "\n",
            "--- Melatih dan Mengevaluasi Random Forest ---\n",
            "Random Forest Metrics:\n",
            "Akurasi   : 0.9767\n",
            "F1 Score  : 0.9768\n",
            "Precision : 0.9771\n",
            "Recall    : 0.9767\n"
          ]
        },
        {
          "output_type": "display_data",
          "data": {
            "text/plain": [
              "<Figure size 600x400 with 2 Axes>"
            ],
            "image/png": "[encoded data removed]"
          },
          "metadata": {}
        }
      ]
    },
    {
      "cell_type": "markdown",
      "source": [
        "XGBoost"
      ],
      "metadata": {
        "id": "Pkx0ZqpY1KXV"
      }
    },
    {
      "cell_type": "code",
      "source": [
        "print(\"\\n--- Melatih dan Mengevaluasi XGBoost ---\")\n",
        "\n",
        "from xgboost import XGBClassifier\n",
        "from sklearn.metrics import accuracy_score, f1_score, precision_score, recall_score, confusion_matrix\n",
        "import matplotlib.pyplot as plt\n",
        "import seaborn as sns\n",
        "\n",
        "# Inisialisasi model\n",
        "xgb_model = XGBClassifier(eval_metric='logloss', random_state=42)\n",
        "\n",
        "# Latih model\n",
        "xgb_model.fit(X_train, y_train_encoded)\n",
        "\n",
        "# Prediksi\n",
        "y_pred_xgb = xgb_model.predict(X_test)\n",
        "\n",
        "# Hitung Metrik Dasar\n",
        "accuracy_xgb = accuracy_score(y_test_encoded, y_pred_xgb)\n",
        "f1_xgb = f1_score(y_test_encoded, y_pred_xgb, average='weighted')\n",
        "precision_xgb = precision_score(y_test_encoded, y_pred_xgb, average='weighted')\n",
        "recall_xgb = recall_score(y_test_encoded, y_pred_xgb, average='weighted')\n",
        "\n",
        "# Tampilkan Metrik Dasar\n",
        "print(\"XGBoost Metrics:\")\n",
        "print(f\"Akurasi   : {accuracy_xgb:.4f}\")\n",
        "print(f\"F1 Score  : {f1_xgb:.4f}\")\n",
        "print(f\"Precision : {precision_xgb:.4f}\")\n",
        "print(f\"Recall    : {recall_xgb:.4f}\")\n",
        "\n",
        "# Visualisasi Confusion Matrix\n",
        "cm_xgb = confusion_matrix(y_test_original, label_encoder.inverse_transform(y_pred_xgb), labels=label_encoder.classes_)\n",
        "\n",
        "plt.figure(figsize=(6, 4))\n",
        "sns.heatmap(cm_xgb, annot=True, fmt='d', cmap='Blues',\n",
        "            xticklabels=label_encoder.classes_, yticklabels=label_encoder.classes_)\n",
        "plt.title('Confusion Matrix - XGBoost')\n",
        "plt.xlabel('Predicted Label')\n",
        "plt.ylabel('True Label')\n",
        "plt.show()"
      ],
      "metadata": {
        "colab": {
          "base_uri": "https://localhost:8080/",
          "height": 531
        },
        "id": "rf9wxA-BN-pw",
        "outputId": "da43cf5d-4d7b-479f-f18c-5ddf4dabb659"
      },
      "execution_count": null,
      "outputs": [
        {
          "output_type": "stream",
          "name": "stdout",
          "text": [
            "\n",
            "--- Melatih dan Mengevaluasi XGBoost ---\n",
            "XGBoost Metrics:\n",
            "Akurasi   : 0.9817\n",
            "F1 Score  : 0.9818\n",
            "Precision : 0.9821\n",
            "Recall    : 0.9817\n"
          ]
        },
        {
          "output_type": "display_data",
          "data": {
            "text/plain": [
              "<Figure size 600x400 with 2 Axes>"
            ],
            "image/png": "[encoded data removed]"
          },
          "metadata": {}
        }
      ]
    },
    {
      "cell_type": "markdown",
      "source": [
        "SVM"
      ],
      "metadata": {
        "id": "5LceIhGJOHiW"
      }
    },
    {
      "cell_type": "code",
      "source": [
        "print(\"\\n--- Melatih dan Mengevaluasi SVM ---\")\n",
        "\n",
        "from sklearn.svm import SVC\n",
        "from sklearn.metrics import accuracy_score, f1_score, precision_score, recall_score, confusion_matrix\n",
        "import matplotlib.pyplot as plt\n",
        "import seaborn as sns\n",
        "\n",
        "# Inisialisasi model\n",
        "svm_model = SVC(kernel='rbf', random_state=42)\n",
        "\n",
        "# Latih model menggunakan data training YANG SUDAH DISKALAKAN\n",
        "svm_model.fit(X_train_scaled, y_train_encoded)\n",
        "\n",
        "# Prediksi pada data testing YANG SUDAH DISKALAKAN\n",
        "y_pred_svm = svm_model.predict(X_test_scaled)\n",
        "\n",
        "# Hitung Metrik Dasar\n",
        "accuracy_svm = accuracy_score(y_test_encoded, y_pred_svm)\n",
        "f1_svm = f1_score(y_test_encoded, y_pred_svm, average='weighted')\n",
        "precision_svm = precision_score(y_test_encoded, y_pred_svm, average='weighted')\n",
        "recall_svm = recall_score(y_test_encoded, y_pred_svm, average='weighted')\n",
        "\n",
        "# Tampilkan Metrik Dasar\n",
        "print(\"SVM Metrics:\")\n",
        "print(f\"Akurasi   : {accuracy_svm:.4f}\")\n",
        "print(f\"F1 Score  : {f1_svm:.4f}\")\n",
        "print(f\"Precision : {precision_svm:.4f}\")\n",
        "print(f\"Recall    : {recall_svm:.4f}\")\n",
        "\n",
        "cm_svm = confusion_matrix(y_test_original, label_encoder.inverse_transform(y_pred_svm), labels=label_encoder.classes_)\n",
        "\n",
        "\n",
        "plt.figure(figsize=(6, 4))\n",
        "sns.heatmap(cm_svm, annot=True, fmt='d', cmap='Blues',\n",
        "            xticklabels=label_encoder.classes_, yticklabels=label_encoder.classes_)\n",
        "plt.title('Confusion Matrix - SVM')\n",
        "plt.xlabel('Predicted Label')\n",
        "plt.ylabel('True Label')\n",
        "plt.show()"
      ],
      "metadata": {
        "colab": {
          "base_uri": "https://localhost:8080/",
          "height": 531
        },
        "id": "8m01ewttOJ7w",
        "outputId": "b3df8641-3860-4744-f0ea-de2465bc37c7"
      },
      "execution_count": null,
      "outputs": [
        {
          "output_type": "stream",
          "name": "stdout",
          "text": [
            "\n",
            "--- Melatih dan Mengevaluasi SVM ---\n",
            "SVM Metrics:\n",
            "Akurasi   : 0.9800\n",
            "F1 Score  : 0.9799\n",
            "Precision : 0.9802\n",
            "Recall    : 0.9800\n"
          ]
        },
        {
          "output_type": "display_data",
          "data": {
            "text/plain": [
              "<Figure size 600x400 with 2 Axes>"
            ],
            "image/png": "[encoded data removed]"
          },
          "metadata": {}
        }
      ]
    },
    {
      "cell_type": "markdown",
      "source": [
        "## **3. Eksplorasi Model**"
      ],
      "metadata": {
        "id": "CNarnlIQxAk0"
      }
    },
    {
      "cell_type": "markdown",
      "source": [
        "# **3.1 Parameter Tuning**"
      ],
      "metadata": {
        "id": "i4-ZGrYOxLFS"
      }
    },
    {
      "cell_type": "code",
      "source": [
        "from sklearn.model_selection import GridSearchCV\n",
        "from sklearn.ensemble import RandomForestClassifier\n",
        "\n",
        "print(\"\\n--- Melakukan Grid Search untuk Random Forest ---\")\n",
        "\n",
        "# Definisikan model\n",
        "rf_model = RandomForestClassifier(random_state=42)\n",
        "\n",
        "# Definisikan ruang parameter yang ingin dicoba\n",
        "rf_param_grid = {\n",
        "    'n_estimators': [100, 200, 300], # Jumlah pohon\n",
        "    'max_depth': [None, 10, 20],     # Kedalaman maksimum pohon (None = tanpa batas)\n",
        "    'min_samples_split': [2, 5, 10] # Minimal sampel yang diperlukan untuk membagi node\n",
        "}\n",
        "\n",
        "# Lakukan Grid Search dengan Cross-Validation (cv=5)\n",
        "# Menggunakan scoring='accuracy'\n",
        "rf_grid_search = GridSearchCV(rf_model, rf_param_grid, cv=5, scoring='accuracy', n_jobs=-1) # n_jobs=-1 menggunakan semua core CPU\n",
        "\n",
        "# Latih Grid Search pada data training (belum diskalakan OK)\n",
        "rf_grid_search.fit(X_train, y_train_encoded)\n",
        "\n",
        "print(\"Grid Search Random Forest selesai.\")\n",
        "print(\"Best Random Forest Parameters:\", rf_grid_search.best_params_)\n",
        "print(f\"Best Random Forest Accuracy (CV): {rf_grid_search.best_score_:.4f}\") # Diperbaiki"
      ],
      "metadata": {
        "colab": {
          "base_uri": "https://localhost:8080/"
        },
        "id": "ek0P0IW0PryQ",
        "outputId": "6ecd3920-3824-440a-8f4c-7c561036d3a4"
      },
      "execution_count": null,
      "outputs": [
        {
          "output_type": "stream",
          "name": "stdout",
          "text": [
            "\n",
            "--- Melakukan Grid Search untuk Random Forest ---\n",
            "Grid Search Random Forest selesai.\n",
            "Best Random Forest Parameters: {'max_depth': None, 'min_samples_split': 2, 'n_estimators': 300}\n",
            "Best Random Forest Accuracy (CV): 0.9879\n"
          ]
        }
      ]
    },
    {
      "cell_type": "code",
      "source": [
        "from sklearn.model_selection import GridSearchCV\n",
        "from xgboost import XGBClassifier\n",
        "\n",
        "print(\"\\n--- Melakukan Grid Search untuk XGBoost ---\")\n",
        "\n",
        "# Definisikan model\n",
        "xgb_model = XGBClassifier(eval_metric='logloss', random_state=42)\n",
        "\n",
        "# Definisikan ruang parameter yang ingin dicoba\n",
        "xgb_param_grid = {\n",
        "    'n_estimators': [100, 200, 300],    # Jumlah boosting rounds\n",
        "    'learning_rate': [0.01, 0.1, 0.2],  # Ukuran langkah saat melakukan update\n",
        "    'max_depth': [3, 5, 7]           # Kedalaman maksimum pohon\n",
        "}\n",
        "\n",
        "# Lakukan Grid Search dengan Cross-Validation (cv=5)\n",
        "# Menggunakan scoring='accuracy'\n",
        "xgb_grid_search = GridSearchCV(xgb_model, xgb_param_grid, cv=5, scoring='accuracy', n_jobs=-1) # n_jobs=-1 menggunakan semua core CPU\n",
        "\n",
        "# Latih Grid Search pada data training (belum diskalakan OK)\n",
        "xgb_grid_search.fit(X_train, y_train_encoded)\n",
        "\n",
        "# Tampilkan hasil terbaik\n",
        "print(\"Grid Search XGBoost selesai.\")\n",
        "print(\"Best XGBoost Parameters:\", xgb_grid_search.best_params_)\n",
        "print(f\"Best XGBoost Accuracy (CV): {xgb_grid_search.best_score_:.4f}\") # Diperbaiki\n"
      ],
      "metadata": {
        "colab": {
          "base_uri": "https://localhost:8080/"
        },
        "id": "NGhwtDrlPu0V",
        "outputId": "c43b7ba5-45b3-4716-a822-85ef3a924b53"
      },
      "execution_count": null,
      "outputs": [
        {
          "output_type": "stream",
          "name": "stdout",
          "text": [
            "\n",
            "--- Melakukan Grid Search untuk XGBoost ---\n",
            "Grid Search XGBoost selesai.\n",
            "Best XGBoost Parameters: {'learning_rate': 0.2, 'max_depth': 3, 'n_estimators': 200}\n",
            "Best XGBoost Accuracy (CV): 0.9850\n"
          ]
        }
      ]
    },
    {
      "cell_type": "code",
      "source": [
        "from sklearn.model_selection import GridSearchCV\n",
        "from sklearn.svm import SVC\n",
        "from sklearn.preprocessing import StandardScaler\n",
        "from sklearn.pipeline import Pipeline\n",
        "\n",
        "print(\"\\n--- Melakukan Grid Search untuk SVM ---\")\n",
        "\n",
        "# Buat pipeline: gabungkan scaling dan model SVM\n",
        "svm_pipeline = Pipeline([\n",
        "    ('scaler', StandardScaler()),\n",
        "    ('classifier', SVC(random_state=42, probability=True))\n",
        "])\n",
        "\n",
        "# Definisikan ruang parameter untuk Grid Search\n",
        "svm_param_grid = {\n",
        "    'classifier__C': [0.1, 1, 10],\n",
        "    'classifier__gamma': ['scale', 'auto', 0.01, 0.1, 1],\n",
        "    'classifier__kernel': ['rbf', 'linear']\n",
        "}\n",
        "\n",
        "# Lakukan Grid Search dengan Cross-Validation (cv=5)\n",
        "# Menggunakan scoring='accuracy'\n",
        "svm_grid_search = GridSearchCV(svm_pipeline, svm_param_grid, cv=5, scoring='accuracy', n_jobs=-1) # n_jobs=-1 menggunakan semua core CPU\n",
        "\n",
        "# Latih Grid Search pada data training (data mentah X_train, pipeline akan melakukan penskalaan internal)\n",
        "svm_grid_search.fit(X_train, y_train_encoded)\n",
        "\n",
        "# Tampilkan hasil terbaik\n",
        "print(\"Grid Search SVM selesai.\")\n",
        "print(\"Best SVM Parameters:\", svm_grid_search.best_params_)\n",
        "print(f\"Best SVM Accuracy (CV): {svm_grid_search.best_score_:.4f}\") # Diperbaiki"
      ],
      "metadata": {
        "colab": {
          "base_uri": "https://localhost:8080/"
        },
        "id": "cs9Ba2GCUXfT",
        "outputId": "4a05f286-0230-42e1-a10a-8aee2d54d9a8"
      },
      "execution_count": null,
      "outputs": [
        {
          "output_type": "stream",
          "name": "stdout",
          "text": [
            "\n",
            "--- Melakukan Grid Search untuk SVM ---\n",
            "Grid Search SVM selesai.\n",
            "Best SVM Parameters: {'classifier__C': 10, 'classifier__gamma': 'scale', 'classifier__kernel': 'linear'}\n",
            "Best SVM Accuracy (CV): 0.9954\n"
          ]
        }
      ]
    },
    {
      "cell_type": "markdown",
      "source": [
        "## **3.2 Evaluasi Model Klasifikasi Setelah Tuning**\n",
        "\n"
      ],
      "metadata": {
        "id": "tAE6KQKDyVMk"
      }
    },
    {
      "source": [
        "print(\"\\n=== Evaluasi Random Forest dengan Tuning ===\")\n",
        "\n",
        "# Dapatkan model terbaik dari hasil Grid Search\n",
        "best_rf_model = rf_grid_search.best_estimator_\n",
        "\n",
        "# Prediksi pada set pengujian (menggunakan X_test karena RF tidak memerlukan penskalaan)\n",
        "y_pred_rf_tuned = best_rf_model.predict(X_test)\n",
        "\n",
        "# Hitung Akurasi dan F1 Score\n",
        "accuracy_rf_tuned = accuracy_score(y_test_encoded, y_pred_rf_tuned)\n",
        "f1_rf_tuned = f1_score(y_test_encoded, y_pred_rf_tuned, average='weighted') # Gunakan weighted average\n",
        "\n",
        "# Tampilkan Hasil\n",
        "print(f\"Random Forest Tuned Accuracy on Test Set: {accuracy_rf_tuned:.4f}\")\n",
        "print(f\"Random Forest Tuned F1 Score on Test Set: {f1_rf_tuned:.4f}\")\n"
      ],
      "cell_type": "code",
      "metadata": {
        "colab": {
          "base_uri": "https://localhost:8080/"
        },
        "id": "1Y52w05uUklk",
        "outputId": "d8fb8320-d835-47f2-c05d-ad60362ab706"
      },
      "execution_count": null,
      "outputs": [
        {
          "output_type": "stream",
          "name": "stdout",
          "text": [
            "\n",
            "=== Evaluasi Random Forest dengan Tuning ===\n",
            "Random Forest Tuned Accuracy on Test Set: 0.9800\n",
            "Random Forest Tuned F1 Score on Test Set: 0.9801\n"
          ]
        }
      ]
    },
    {
      "cell_type": "code",
      "source": [
        "print(\"\\n=== Evaluasi XGBoost dengan Tuning ===\")\n",
        "\n",
        "# Dapatkan model terbaik dari hasil Grid Search\n",
        "best_xgb_model = xgb_grid_search.best_estimator_\n",
        "\n",
        "# Prediksi pada set pengujian (menggunakan X_test karena XGBoost tidak memerlukan penskalaan)\n",
        "y_pred_xgb_tuned = best_xgb_model.predict(X_test)\n",
        "\n",
        "# Hitung Akurasi dan F1 Score\n",
        "accuracy_xgb_tuned = accuracy_score(y_test_encoded, y_pred_xgb_tuned)\n",
        "f1_xgb_tuned = f1_score(y_test_encoded, y_pred_xgb_tuned, average='weighted') # Gunakan weighted average\n",
        "\n",
        "# Tampilkan Hasil\n",
        "print(f\"XGBoost Tuned Accuracy on Test Set: {accuracy_xgb_tuned:.4f}\")\n",
        "print(f\"XGBoost Tuned F1 Score on Test Set: {f1_xgb_tuned:.4f}\")"
      ],
      "metadata": {
        "colab": {
          "base_uri": "https://localhost:8080/"
        },
        "id": "QzaZeExmyx2v",
        "outputId": "87218b66-de78-492b-d433-b8925b032010"
      },
      "execution_count": null,
      "outputs": [
        {
          "output_type": "stream",
          "name": "stdout",
          "text": [
            "\n",
            "=== Evaluasi XGBoost dengan Tuning ===\n",
            "XGBoost Tuned Accuracy on Test Set: 0.9800\n",
            "XGBoost Tuned F1 Score on Test Set: 0.9801\n"
          ]
        }
      ]
    },
    {
      "cell_type": "code",
      "source": [],
      "metadata": {
        "id": "q29zfBdA5kfM"
      },
      "execution_count": null,
      "outputs": []
    },
    {
      "cell_type": "code",
      "source": [
        "print(\"\\n=== Evaluasi SVM dengan Tuning ===\")\n",
        "\n",
        "# Dapatkan model terbaik dari hasil Grid Search (ini adalah pipeline terbaik)\n",
        "best_svm_model = svm_grid_search.best_estimator_\n",
        "\n",
        "# Prediksi pada set pengujian (gunakan X_test mentah, pipeline akan melakukan penskalaan internal)\n",
        "y_pred_svm_tuned = best_svm_model.predict(X_test)\n",
        "\n",
        "# Hitung Akurasi dan F1 Score\n",
        "accuracy_svm_tuned = accuracy_score(y_test_encoded, y_pred_svm_tuned)\n",
        "f1_svm_tuned = f1_score(y_test_encoded, y_pred_svm_tuned, average='weighted') # Gunakan weighted average\n",
        "\n",
        "# Tampilkan Hasil\n",
        "print(f\"SVM Tuned Accuracy on Test Set: {accuracy_svm_tuned:.4f}\")\n",
        "print(f\"SVM Tuned F1 Score on Test Set: {f1_svm_tuned:.4f}\")-"
      ],
      "metadata": {
        "colab": {
          "base_uri": "https://localhost:8080/"
        },
        "id": "1OLvpde_y0YH",
        "outputId": "0d76799f-65f7-48d9-9799-67a2cd9213c1"
      },
      "execution_count": null,
      "outputs": [
        {
          "output_type": "stream",
          "name": "stdout",
          "text": [
            "\n",
            "=== Evaluasi SVM dengan Tuning ===\n",
            "SVM Tuned Accuracy on Test Set: 0.9933\n",
            "SVM Tuned F1 Score on Test Set: 0.9934\n"
          ]
        }
      ]
    },
    {
      "cell_type": "markdown",
      "source": [
        "## **3.3 Metrik Evaluasi**"
      ],
      "metadata": {
        "id": "qiw9scRGVUU5"
      }
    },
    {
      "cell_type": "markdown",
      "source": [
        "### **Random Forest**\n",
        "\n",
        "Analisis Hasil Evaluasi Model Random Forest Perbandingan Sebelum dan Sesudah Tuning Dari hasil evaluasi model Random Forest, kita melihat kinerja yang sangat tinggi baik pada model baseline (parameter default) maupun model yang sudah di-tune menggunakan Grid Search:\n",
        "\n",
        "Akurasi baseline: [Masukkan nilai akurasi RF baseline dari output Anda, cth: 0.\n",
        "\n",
        "*   List item\n",
        "*   List item\n",
        "\n",
        "98]\n",
        "F1 Score baseline (weighted): [Masukkan nilai F1 RF baseline dari output Anda, cth: 0.98]\n",
        "Akurasi setelah tuning (pada test set): [Masukkan nilai accuracy_rf_tuned dari output Anda, cth: 0.9805]\n",
        "F1 Score setelah tuning (weighted, pada test set): [Masukkan nilai f1_rf_tuned dari output Anda, cth: 0.9804]\n",
        "Tuning hyperparameter nampaknya tidak memberikan perubahan yang signifikan pada metrik kinerja akhir di set pengujian. Ini bisa menandakan bahwa parameter default Random Forest sudah cukup optimal untuk dataset ini, atau ruang parameter yang dieksplorasi dalam Grid Search sudah mencakup area kinerja yang sangat baik. Performa tinggi secara konsisten (baik baseline maupun tuned) menunjukkan bahwa Random Forest adalah model yang sangat cocok untuk data ini.\n",
        "\n",
        "Analisis Kinerja Model Tuned (pada Test Set) Model Random Forest yang di-tune mencapai Akurasi dan F1 Score [Masukkan nilai akurasi_rf_tuned dan f1_rf_tuned] pada data pengujian. Metrik yang sangat tinggi ini mengindikasikan bahwa model ini mampu mengklasifikasikan mayoritas artis dengan benar ke dalam kategori 'Collaborative' atau 'Solo-oriented'.\n",
        "\n",
        "Confusion Matrix (jika ditampilkan) akan memberikan detail lebih lanjut mengenai jenis kesalahan yang dilakukan model (misalnya, berapa banyak artis 'Collaborative' yang salah diklasifikasikan sebagai 'Solo-oriented', dan sebaliknya). F1 Score yang tinggi (menggunakan rata-rata tertimbang) menunjukkan bahwa model berkinerja baik meskipun mungkin ada ketidakseimbangan kelas.\n",
        "\n",
        "Potensi dan Rekomendasi Tindakan Lanjutan\n",
        "\n",
        "Kinerja Kuat: Random Forest adalah model berbasis ensemble yang cenderung tangguh dan tidak mudah overfitting dibandingkan model tunggal. Kinerja yang sangat tinggi pada set pengujian menunjukkan model ini telah mempelajari pola dengan baik.\n",
        "Generalisasi: Meskipun metrik pada data pengujian sangat baik, penting untuk memvalidasi model pada data baru atau menggunakan K-Fold Cross Validation pada seluruh dataset untuk memastikan kemampuan generalisasi yang kuat di luar set data yang ada.\n",
        "Interpretasi Model: Random Forest memungkinkan analisis feature importance, yang bisa berguna untuk memahami fitur mana ('Streams', 'Solo', 'As feature', dll.) yang paling berkontribusi pada keputusan klasifikasi."
      ],
      "metadata": {
        "id": "OGhUeYw1YZuj"
      }
    },
    {
      "cell_type": "markdown",
      "source": [
        "### **XGBoost**\n",
        "\n",
        "Analisis Hasil Evaluasi Model XGBoost Perbandingan Sebelum dan Sesudah Tuning Setelah pelatihan dan tuning, model XGBoost menunjukkan kinerja yang luar biasa, mirip dengan Random Forest:\n",
        "\n",
        "Akurasi baseline: [Masukkan nilai akurasi XGB baseline dari output Anda, cth: 0.98]\n",
        "F1 Score baseline (weighted): [Masukkan nilai F1 XGB baseline dari output Anda, cth: 0.98]\n",
        "Akurasi setelah tuning (pada test set): [Masukkan nilai accuracy_xgb_tuned dari output Anda, cth: 0.9805]\n",
        "F1 Score setelah tuning (weighted, pada test set): [Masukkan nilai f1_xgb_tuned dari output Anda, cth: 0.9804]\n",
        "Sama seperti Random Forest, tuning hyperparameter pada XGBoost tidak menghasilkan peningkatan dramatis pada metrik di set pengujian. Ini lagi-lagi bisa karena parameter default sudah bagus atau ruang pencarian sudah memadai. XGBoost dikenal sebagai algoritma yang sangat kuat dan seringkali memberikan kinerja terbaik pada banyak masalah klasifikasi.\n",
        "\n",
        "Analisis Kinerja Model Tuned (pada Test Set) XGBoost yang di-tune mencapai Akurasi dan F1 Score [Masukkan nilai accuracy_xgb_tuned dan f1_xgb_tuned] pada data pengujian. Angka ini sangat tinggi dan mengindikasikan model XGBoost sangat efektif dalam memprediksi tipe artis pada dataset ini.\n",
        "\n",
        "Kinerja per kelas pada Classification Report (jika dilihat) dan Confusion Matrix akan menunjukkan distribusi kesalahan yang mungkin sedikit berbeda dari Random Forest, meskipun metrik rata-rata terlihat serupa. XGBoost seringkali sangat baik dalam meminimalkan kesalahan pada kelas minoritas (jika dituning dengan tepat).\n",
        "\n",
        "Potensi dan Rekomendasi Tindakan Lanjutan\n",
        "\n",
        "Model Kuat: XGBoost adalah algoritma gradient boosting yang sangat canggih dan seringkali memberikan hasil state-of-the-art. Kinerja tinggi di sini mengkonfirmasi kemampuannya pada dataset ini.\n",
        "Validasi: Sama seperti Random Forest, validasi lebih lanjut (K-Fold CV atau data eksternal) penting untuk memastikan bahwa model tidak hanya berkinerja baik pada set data yang ada.\n",
        "Interpretasi: XGBoost juga menyediakan fitur importances, yang dapat membantu menjelaskan faktor-faktor kunci yang membedakan artis 'Collaborative' dan 'Solo-oriented' menurut model."
      ],
      "metadata": {
        "id": "JE5lYN4UzhOh"
      }
    },
    {
      "cell_type": "markdown",
      "source": [
        "### **SVM**\n",
        "\n",
        "Analisis Hasil Evaluasi Model SVM Perbandingan Sebelum dan Sesudah Tuning Evaluasi model SVM menunjukkan bahwa tuning hyperparameter (bersamaan dengan penskalaan fitur yang diperlukan) memberikan kinerja yang sedikit lebih unggul dibandingkan baseline dan model lainnya:\n",
        "\n",
        "Akurasi baseline: [Masukkan nilai akurasi SVM baseline dari output Anda, cth: 0.99]\n",
        "F1 Score baseline (weighted): [Masukkan nilai F1 SVM baseline dari output Anda, cth: 0.99]\n",
        "Akurasi setelah tuning (pada test set): [Masukkan nilai accuracy_svm_tuned dari output Anda, cth: 0.9918]\n",
        "F1 Score setelah tuning (weighted, pada test set): [Masukkan nilai f1_svm_tuned dari output Anda, cth: 0.9918]\n",
        "Tuning pada SVM, terutama penyesuaian parameter C dan gamma, tampaknya berhasil menemukan konfigurasi yang sedikit lebih optimal, menghasilkan akurasi tertinggi di antara ketiga model yang diuji. Penskalaan fitur sangat krusial untuk kinerja optimal SVM, dan penggunaan pipeline dalam Grid Search memastikan langkah ini dilakukan dengan benar.\n",
        "\n",
        "Analisis Kinerja Model Tuned (pada Test Set) SVM yang di-tune mencapai Akurasi dan F1 Score [Masukkan nilai accuracy_svm_tuned dan f1_svm_tuned] pada data pengujian. Angka ini adalah yang tertinggi di antara ketiga model, menunjukkan bahwa batas pemisah (hyperplane) yang ditemukan oleh SVM pada ruang fitur yang diskalakan sangat efektif untuk memisahkan kedua kelas.\n",
        "\n",
        "Classification Report (jika dilihat) untuk SVM kemungkinan akan menunjukkan Precision dan Recall yang sangat tinggi, mendekati atau mencapai 1.00 untuk salah satu atau kedua kelas, mengindikasikan jumlah false positives/negatives yang sangat sedikit. Ini sesuai dengan akurasi 0.99 yang dicapai.\n",
        "\n",
        "Potensi dan Rekomendasi Tindakan Lanjutan\n",
        "\n",
        "Performa Terbaik: Berdasarkan metrik akurasi dan F1-Score pada set pengujian, SVM Tuned adalah model dengan kinerja terbaik di antara ketiga model yang dieksplorasi.\n",
        "Sensitivitas Skala: Penting untuk selalu menggunakan data yang diskalakan saat menggunakan model SVM di masa mendatang, baik untuk inferensi maupun pelatihan ulang (jika menggunakan data baru). Scaler harus di-fit pada data training asli dan hanya di-transform pada data baru.\n",
        "Kompleksitas: SVM, terutama dengan kernel RBF, bisa menjadi \"kotak hitam\" (black box) yang lebih sulit diinterpretasikan dibandingkan model berbasis pohon.\n",
        "Validasi: Validasi eksternal atau K-Fold CV tetap disarankan untuk mengkonfirmasi kinerja kuat ini pada data yang belum pernah dilihat sebelumnya."
      ],
      "metadata": {
        "id": "uLPg0qOzzpg_"
      }
    },
    {
      "cell_type": "markdown",
      "source": [
        "## **Rangkuman Analisis Model Klasifikasi**\n",
        "\n",
        "Setelah melalui proses pembersihan data, eksplorasi, splitting data, dan pemodelan menggunakan tiga algoritma klasifikasi berbeda (Random Forest, XGBoost, dan SVM), diperoleh hasil sebagai berikut:\n",
        "\n",
        "Perbandingan Model Baseline: Evaluasi awal menggunakan parameter default (baseline) menunjukkan kinerja yang sangat baik dari ketiga model pada set pengujian:\n",
        "\n",
        "Random Forest: Akurasi baseline sekitar [Masukkan Akurasi RF Baseline], F1 Score baseline sekitar [Masukkan F1 RF Baseline].\n",
        "XGBoost: Akurasi baseline sekitar [Masukkan Akurasi XGB Baseline], F1 Score baseline sekitar [Masukkan F1 XGB Baseline].\n",
        "SVM: Akurasi baseline sekitar [Masukkan Akurasi SVM Baseline], F1 Score baseline sekitar [Masukkan F1 SVM Baseline].\n",
        "Model SVM menunjukkan akurasi baseline yang sedikit lebih tinggi dibandingkan Random Forest dan XGBoost. Ini mengindikasikan bahwa dengan penskalaan fitur yang tepat, SVM memiliki potensi kuat untuk dataset ini sejak awal.\n",
        "\n",
        "Hasil Tuning Hyperparameter (Menggunakan Grid Search): Proses Grid Search dengan Cross-Validation pada data training bertujuan untuk menemukan kombinasi parameter terbaik untuk setiap model.\n",
        "\n",
        "Random Forest: Tuning menghasilkan parameter terbaik [Sebutkan Best Params RF jika ingin] dengan akurasi CV terbaik [Masukkan Akurasi CV RF].\n",
        "XGBoost: Tuning menghasilkan parameter terbaik [Sebutkan Best Params XGB jika ingin] dengan akurasi CV terbaik [Masukkan Akurasi CV XGB].\n",
        "SVM (dengan Pipeline Scaler): Tuning menghasilkan parameter terbaik [Sebutkan Best Params SVM jika ingin] dengan akurasi CV terbaik [Masukkan Akurasi CV SVM].\n",
        "Hasil Grid Search menunjukkan bahwa semua model dapat mencapai akurasi CV yang sangat tinggi di data training, mengkonfirmasi bahwa dataset memiliki pola yang dapat dipelajari dengan baik.\n",
        "\n",
        "Kinerja Model Setelah Tuning (Evaluasi pada Test Set): Setelah mendapatkan model dengan parameter terbaik dari Grid Search, evaluasi final dilakukan pada data pengujian yang belum pernah dilihat oleh model selama pelatihan dan tuning:\n",
        "\n",
        "Random Forest Tuned: Akurasi pada Test Set: [Masukkan accuracy_rf_tuned], F1 Score pada Test Set: [Masukkan f1_rf_tuned].\n",
        "XGBoost Tuned: Akurasi pada Test Set: [Masukkan accuracy_xgb_tuned], F1 Score pada Test Set: [Masukkan f1_xgb_tuned].\n",
        "SVM Tuned: Akurasi pada Test Set: [Masukkan accuracy_svm_tuned], F1 Score pada Test Set: [Masukkan f1_svm_tuned].\n",
        "Ketiga model, baik sebelum maupun sesudah tuning, menunjukkan kinerja yang luar biasa tinggi pada set pengujian, dengan akurasi dan F1 Score mendekati sempurna (di atas 0.98). Dalam perbandingan akhir pada set pengujian, model SVM Tuned sedikit unggul dengan akurasi [Masukkan accuracy_svm_tuned] dan F1 Score [Masukkan f1_svm_tuned], menjadikannya model dengan performa terbaik di antara ketiganya untuk tugas klasifikasi ini.\n",
        "\n",
        "Diskusi dan Kesimpulan:\n",
        "\n",
        "Data yang Dapat Diprediksi: Kinerja yang konsisten sangat tinggi di semua model menunjukkan bahwa fitur-fitur yang digunakan ('Streams', 'Daily', 'As lead', 'Solo', 'As feature') sangat efektif dalam membedakan antara artis 'Collaborative' dan 'Solo-oriented' berdasarkan definisi yang dibuat. Pola dalam data sangat jelas.\n",
        "Efek Tuning: Untuk dataset ini, tuning hyperparameter nampaknya tidak menghasilkan peningkatan kinerja yang drastis dibandingkan model baseline. Ini bisa karena parameter default sudah cukup baik, atau dataset terlalu \"mudah\" untuk tugas klasifikasi ini sehingga perbedaan parameter tidak terlalu signifikan pada set pengujian.\n",
        "Pentingnya Penskalaan: Kinerja kuat SVM menggarisbawahi pentingnya penskalaan fitur untuk algoritma berbasis jarak. Penggunaan pipeline dalam proses tuning SVM adalah praktik yang baik.\n",
        "Potensi Overfitting: Meskipun metrik pada data pengujian sangat baik, selalu ada potensi overfitting, terutama jika dataset berukuran kecil atau tidak mencakup variasi data dunia nyata. Validasi tambahan pada data eksternal atau K-Fold Cross Validation (pada seluruh dataset) akan memberikan keyakinan yang lebih tinggi pada kemampuan generalisasi model terbaik (dalam hal ini, SVM Tuned).\n",
        "Secara keseluruhan, ketiga model berhasil mengklasifikasikan tipe artis dengan sangat baik. Berdasarkan metrik pada set pengujian, SVM Tuned adalah model dengan kinerja terbaik. Namun, penting untuk melakukan validasi lebih lanjut untuk memastikan generalisasi yang kuat di luar dataset yang ada."
      ],
      "metadata": {
        "id": "vsgofpckz9eR"
      }
    }
  ]
}